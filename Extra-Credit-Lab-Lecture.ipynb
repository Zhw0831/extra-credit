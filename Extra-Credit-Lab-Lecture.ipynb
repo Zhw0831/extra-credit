{
 "cells": [
  {
   "cell_type": "markdown",
   "metadata": {},
   "source": [
    "# Extra Credit Lab Lecture\n",
    "\n",
    "## More Python\n",
    "\n",
    "**Topics**\n",
    "\n",
    "* persistence\n",
    "* files\n",
    "    * opening\n",
    "    * reading from\n",
    "    * writing to\n",
    "    * processing data from\n",
    "* lists\n",
    "    * iterating over\n",
    "    * indexing\n",
    "* list operations\n",
    "* standard list methods\n",
    "* dictionaries\n",
    "* the `pickle` package"
   ]
  },
  {
   "cell_type": "markdown",
   "metadata": {},
   "source": [
    "## A note on persistence\n",
    "\n",
    "All the stuff we've done before now has dealt exclusively with data in memory. But, what if we wanted to **store things**? How would we do that? "
   ]
  },
  {
   "cell_type": "markdown",
   "metadata": {},
   "source": [
    "## Files\n",
    "\n",
    "* good for storing data that needs to stay on the computer as its powered off\n",
    "* slower than memory!\n",
    "\n",
    "Opening files in Python is just as simple as knowing the name of the file."
   ]
  },
  {
   "cell_type": "code",
   "execution_count": 14,
   "metadata": {},
   "outputs": [
    {
     "name": "stdout",
     "output_type": "stream",
     "text": [
      "Line Count: 2\n"
     ]
    }
   ],
   "source": [
    "myfile = open(\"info.txt\")\n",
    "count = 0\n",
    "\n",
    "for line in myfile:\n",
    "    count = count + 1\n",
    "print('Line Count:', count)"
   ]
  },
  {
   "cell_type": "code",
   "execution_count": 15,
   "metadata": {},
   "outputs": [],
   "source": [
    "mynewfile = open(\"info.txt\")\n",
    "\n",
    "for line in mynewfile:\n",
    "    print(line)"
   ]
  },
  {
   "cell_type": "markdown",
   "metadata": {},
   "source": [
    "What if I wanted to get *just* my name and age, as variables, so I can do fun things with them?"
   ]
  },
  {
   "cell_type": "code",
   "execution_count": null,
   "metadata": {},
   "outputs": [],
   "source": [
    "infofile = open(\"info.txt\")\n",
    "\n",
    "firstline = infofile.readline()\n",
    "secondline = infofile.readline()\n",
    "\n",
    "f = firstline.split()\n",
    "s = secondline.split()\n",
    "\n",
    "print(f)\n",
    "print(s)"
   ]
  },
  {
   "cell_type": "markdown",
   "metadata": {},
   "source": [
    "So, we just took a hard right turn into Listville.\n",
    "\n",
    "## Lists! (accidentally)\n",
    "\n",
    "* you've seen lists before, remember?"
   ]
  },
  {
   "cell_type": "code",
   "execution_count": null,
   "metadata": {},
   "outputs": [],
   "source": [
    "my_friends = [\"Bob\", \"Susan\", \"Noah\", \"Amanda\"]\n",
    "\n",
    "for friend in my_friends:\n",
    "    print(\"Hello,\", friend)"
   ]
  },
  {
   "cell_type": "markdown",
   "metadata": {},
   "source": [
    "List are sequences of items that we iterate through. There are a number of built-in Python functions that operate "
   ]
  },
  {
   "cell_type": "markdown",
   "metadata": {},
   "source": [
    "## Back to files\n",
    "\n",
    "So, what if we want to write something to a file?"
   ]
  },
  {
   "cell_type": "code",
   "execution_count": null,
   "metadata": {},
   "outputs": [],
   "source": [
    "testfile = open(\"test.txt\", \"w\")\n",
    "line1 = \"Here's some test data.\"\n",
    "testfile.write(line1)"
   ]
  },
  {
   "cell_type": "markdown",
   "metadata": {},
   "source": [
    "## Dictionaries\n",
    "\n",
    "* key-value pairs\n",
    "* not indexable\n",
    "* access keys through square brackets"
   ]
  },
  {
   "cell_type": "code",
   "execution_count": 1,
   "metadata": {},
   "outputs": [
    {
     "ename": "NameError",
     "evalue": "name 'chuck' is not defined",
     "output_type": "error",
     "traceback": [
      "\u001b[1;31m---------------------------------------------------------------------------\u001b[0m",
      "\u001b[1;31mNameError\u001b[0m                                 Traceback (most recent call last)",
      "\u001b[1;32m<ipython-input-1-3a1b6791c2ab>\u001b[0m in \u001b[0;36m<module>\u001b[1;34m\u001b[0m\n\u001b[0;32m      1\u001b[0m \u001b[0mcounts\u001b[0m \u001b[1;33m=\u001b[0m \u001b[1;33m{\u001b[0m\u001b[1;34m'chuck'\u001b[0m \u001b[1;33m:\u001b[0m \u001b[1;36m1\u001b[0m \u001b[1;33m,\u001b[0m \u001b[1;34m'annie'\u001b[0m \u001b[1;33m:\u001b[0m \u001b[1;36m42\u001b[0m\u001b[1;33m,\u001b[0m \u001b[1;34m'jan'\u001b[0m\u001b[1;33m:\u001b[0m \u001b[1;36m100\u001b[0m\u001b[1;33m}\u001b[0m\u001b[1;33m\u001b[0m\u001b[1;33m\u001b[0m\u001b[0m\n\u001b[0;32m      2\u001b[0m \u001b[1;33m\u001b[0m\u001b[0m\n\u001b[1;32m----> 3\u001b[1;33m \u001b[0mprint\u001b[0m\u001b[1;33m(\u001b[0m\u001b[0mcounts\u001b[0m\u001b[1;33m[\u001b[0m\u001b[0mchuck\u001b[0m\u001b[1;33m]\u001b[0m\u001b[1;33m)\u001b[0m\u001b[1;33m\u001b[0m\u001b[1;33m\u001b[0m\u001b[0m\n\u001b[0m",
      "\u001b[1;31mNameError\u001b[0m: name 'chuck' is not defined"
     ]
    }
   ],
   "source": [
    "counts = {'chuck' : 1 , 'annie' : 42, 'jan': 100}\n",
    "\n",
    "print(counts[chuck])"
   ]
  },
  {
   "cell_type": "code",
   "execution_count": 2,
   "metadata": {},
   "outputs": [
    {
     "name": "stdout",
     "output_type": "stream",
     "text": [
      "chuck 1\n",
      "annie 42\n",
      "jan 100\n"
     ]
    }
   ],
   "source": [
    "counts = {'chuck' : 1 , 'annie' : 42, 'jan': 100}\n",
    "for key in counts:\n",
    "    print(key, counts[key])"
   ]
  },
  {
   "cell_type": "code",
   "execution_count": null,
   "metadata": {},
   "outputs": [],
   "source": []
  }
 ],
 "metadata": {
  "kernelspec": {
   "display_name": "Python 3",
   "language": "python",
   "name": "python3"
  },
  "language_info": {
   "codemirror_mode": {
    "name": "ipython",
    "version": 3
   },
   "file_extension": ".py",
   "mimetype": "text/x-python",
   "name": "python",
   "nbconvert_exporter": "python",
   "pygments_lexer": "ipython3",
   "version": "3.8.5"
  }
 },
 "nbformat": 4,
 "nbformat_minor": 4
}
